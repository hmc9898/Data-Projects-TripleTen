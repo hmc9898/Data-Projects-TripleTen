{
 "cells": [
  {
   "cell_type": "markdown",
   "metadata": {},
   "source": [
    "# Interconnect Churn-Forcasting Initiative"
   ]
  },
  {
   "cell_type": "markdown",
   "metadata": {},
   "source": [
    "This project explores customer churn within a telecommunications provider using multiple datasets that capture user behavior, contract details, personal data, and service usage (phone and internet). The objective is to identify patterns that contribute to churn and develop a predictive model to flag high-risk customers. By understanding these trends, the provider can take proactive steps to reduce attrition and improve customer retention strategies.\n",
    "\n",
    "\n",
    "Heather Marie Culligan\n",
    "\n",
    "May 2025"
   ]
  },
  {
   "cell_type": "markdown",
   "metadata": {},
   "source": [
    "## Initialization"
   ]
  },
  {
   "cell_type": "code",
   "execution_count": 4,
   "metadata": {},
   "outputs": [],
   "source": [
    "#importing needed libraries\n",
    "import pandas as pd\n",
    "import numpy as np\n",
    "import seaborn as sns\n",
    "import matplotlib.pyplot as plt\n",
    "from sklearn.preprocessing import StandardScaler\n",
    "from sklearn.model_selection import train_test_split\n",
    "from sklearn.linear_model import LogisticRegression\n",
    "from sklearn.metrics import roc_auc_score, classification_report, confusion_matrix, roc_curve, auc\n",
    "import lightgbm as lgb\n",
    "from sklearn.model_selection import RandomizedSearchCV\n",
    "from scipy.stats import randint, uniform"
   ]
  },
  {
   "cell_type": "markdown",
   "metadata": {},
   "source": [
    "## Load Data"
   ]
  },
  {
   "cell_type": "code",
   "execution_count": 6,
   "metadata": {},
   "outputs": [],
   "source": [
    "#load data sets\n",
    "df_phone=pd.read_csv('/datasets/final_provider/phone.csv')\n",
    "df_internet=pd.read_csv('/datasets/final_provider/internet.csv')\n",
    "df_personal=pd.read_csv('/datasets/final_provider/personal.csv')\n",
    "df_contract=pd.read_csv('/datasets/final_provider/contract.csv')"
   ]
  },
  {
   "cell_type": "markdown",
   "metadata": {},
   "source": [
    "## EDA"
   ]
  },
  {
   "cell_type": "markdown",
   "metadata": {},
   "source": [
    "### Pre-Process"
   ]
  },
  {
   "cell_type": "code",
   "execution_count": 7,
   "metadata": {},
   "outputs": [
    {
     "name": "stdout",
     "output_type": "stream",
     "text": [
      "<class 'pandas.core.frame.DataFrame'>\n",
      "RangeIndex: 6361 entries, 0 to 6360\n",
      "Data columns (total 2 columns):\n",
      " #   Column         Non-Null Count  Dtype \n",
      "---  ------         --------------  ----- \n",
      " 0   customerID     6361 non-null   object\n",
      " 1   MultipleLines  6361 non-null   object\n",
      "dtypes: object(2)\n",
      "memory usage: 99.5+ KB\n"
     ]
    }
   ],
   "source": [
    "#brief look at all our data sets before merge\n",
    "df_phone.info()"
   ]
  },
  {
   "cell_type": "code",
   "execution_count": 8,
   "metadata": {},
   "outputs": [
    {
     "name": "stdout",
     "output_type": "stream",
     "text": [
      "<class 'pandas.core.frame.DataFrame'>\n",
      "RangeIndex: 5517 entries, 0 to 5516\n",
      "Data columns (total 8 columns):\n",
      " #   Column            Non-Null Count  Dtype \n",
      "---  ------            --------------  ----- \n",
      " 0   customerID        5517 non-null   object\n",
      " 1   InternetService   5517 non-null   object\n",
      " 2   OnlineSecurity    5517 non-null   object\n",
      " 3   OnlineBackup      5517 non-null   object\n",
      " 4   DeviceProtection  5517 non-null   object\n",
      " 5   TechSupport       5517 non-null   object\n",
      " 6   StreamingTV       5517 non-null   object\n",
      " 7   StreamingMovies   5517 non-null   object\n",
      "dtypes: object(8)\n",
      "memory usage: 344.9+ KB\n"
     ]
    }
   ],
   "source": [
    "df_internet.info()"
   ]
  },
  {
   "cell_type": "code",
   "execution_count": 9,
   "metadata": {},
   "outputs": [
    {
     "name": "stdout",
     "output_type": "stream",
     "text": [
      "<class 'pandas.core.frame.DataFrame'>\n",
      "RangeIndex: 7043 entries, 0 to 7042\n",
      "Data columns (total 8 columns):\n",
      " #   Column            Non-Null Count  Dtype  \n",
      "---  ------            --------------  -----  \n",
      " 0   customerID        7043 non-null   object \n",
      " 1   BeginDate         7043 non-null   object \n",
      " 2   EndDate           7043 non-null   object \n",
      " 3   Type              7043 non-null   object \n",
      " 4   PaperlessBilling  7043 non-null   object \n",
      " 5   PaymentMethod     7043 non-null   object \n",
      " 6   MonthlyCharges    7043 non-null   float64\n",
      " 7   TotalCharges      7043 non-null   object \n",
      "dtypes: float64(1), object(7)\n",
      "memory usage: 440.3+ KB\n"
     ]
    }
   ],
   "source": [
    "df_contract.info()"
   ]
  },
  {
   "cell_type": "code",
   "execution_count": 10,
   "metadata": {},
   "outputs": [
    {
     "name": "stdout",
     "output_type": "stream",
     "text": [
      "<class 'pandas.core.frame.DataFrame'>\n",
      "RangeIndex: 7043 entries, 0 to 7042\n",
      "Data columns (total 5 columns):\n",
      " #   Column         Non-Null Count  Dtype \n",
      "---  ------         --------------  ----- \n",
      " 0   customerID     7043 non-null   object\n",
      " 1   gender         7043 non-null   object\n",
      " 2   SeniorCitizen  7043 non-null   int64 \n",
      " 3   Partner        7043 non-null   object\n",
      " 4   Dependents     7043 non-null   object\n",
      "dtypes: int64(1), object(4)\n",
      "memory usage: 275.2+ KB\n"
     ]
    }
   ],
   "source": [
    "df_personal.info()"
   ]
  },
  {
   "cell_type": "code",
   "execution_count": 11,
   "metadata": {},
   "outputs": [],
   "source": [
    "#merge the four datasets into one on customerID\n",
    "df_all=(\n",
    "    df_personal\n",
    "        .merge(df_contract, on='customerID', how='left')\n",
    "        .merge(df_phone, on='customerID', how='left')\n",
    "        .merge(df_internet, on='customerID', how='left')\n",
    ")"
   ]
  },
  {
   "cell_type": "code",
   "execution_count": 12,
   "metadata": {},
   "outputs": [],
   "source": [
    "#rename the columns to lowercase to help locate duplicates properly along with overall uniformity\n",
    "df_all.rename(columns=str.lower, inplace=True)\n",
    "for col in df_all.select_dtypes(include='object').columns:\n",
    "    df_all[col]= df_all[col].str.lower()"
   ]
  },
  {
   "cell_type": "code",
   "execution_count": 13,
   "metadata": {},
   "outputs": [
    {
     "name": "stdout",
     "output_type": "stream",
     "text": [
      "<class 'pandas.core.frame.DataFrame'>\n",
      "Int64Index: 7043 entries, 0 to 7042\n",
      "Data columns (total 20 columns):\n",
      " #   Column            Non-Null Count  Dtype  \n",
      "---  ------            --------------  -----  \n",
      " 0   customerid        7043 non-null   object \n",
      " 1   gender            7043 non-null   object \n",
      " 2   seniorcitizen     7043 non-null   int64  \n",
      " 3   partner           7043 non-null   object \n",
      " 4   dependents        7043 non-null   object \n",
      " 5   begindate         7043 non-null   object \n",
      " 6   enddate           7043 non-null   object \n",
      " 7   type              7043 non-null   object \n",
      " 8   paperlessbilling  7043 non-null   object \n",
      " 9   paymentmethod     7043 non-null   object \n",
      " 10  monthlycharges    7043 non-null   float64\n",
      " 11  totalcharges      7043 non-null   object \n",
      " 12  multiplelines     6361 non-null   object \n",
      " 13  internetservice   5517 non-null   object \n",
      " 14  onlinesecurity    5517 non-null   object \n",
      " 15  onlinebackup      5517 non-null   object \n",
      " 16  deviceprotection  5517 non-null   object \n",
      " 17  techsupport       5517 non-null   object \n",
      " 18  streamingtv       5517 non-null   object \n",
      " 19  streamingmovies   5517 non-null   object \n",
      "dtypes: float64(1), int64(1), object(18)\n",
      "memory usage: 1.1+ MB\n"
     ]
    }
   ],
   "source": [
    "#overview after merge and lowercase change\n",
    "df_all.info()"
   ]
  },
  {
   "cell_type": "code",
   "execution_count": 14,
   "metadata": {},
   "outputs": [
    {
     "data": {
      "text/html": [
       "<div>\n",
       "<style scoped>\n",
       "    .dataframe tbody tr th:only-of-type {\n",
       "        vertical-align: middle;\n",
       "    }\n",
       "\n",
       "    .dataframe tbody tr th {\n",
       "        vertical-align: top;\n",
       "    }\n",
       "\n",
       "    .dataframe thead th {\n",
       "        text-align: right;\n",
       "    }\n",
       "</style>\n",
       "<table border=\"1\" class=\"dataframe\">\n",
       "  <thead>\n",
       "    <tr style=\"text-align: right;\">\n",
       "      <th></th>\n",
       "      <th>customerid</th>\n",
       "      <th>gender</th>\n",
       "      <th>seniorcitizen</th>\n",
       "      <th>partner</th>\n",
       "      <th>dependents</th>\n",
       "      <th>begindate</th>\n",
       "      <th>enddate</th>\n",
       "      <th>type</th>\n",
       "      <th>paperlessbilling</th>\n",
       "      <th>paymentmethod</th>\n",
       "      <th>monthlycharges</th>\n",
       "      <th>totalcharges</th>\n",
       "      <th>multiplelines</th>\n",
       "      <th>internetservice</th>\n",
       "      <th>onlinesecurity</th>\n",
       "      <th>onlinebackup</th>\n",
       "      <th>deviceprotection</th>\n",
       "      <th>techsupport</th>\n",
       "      <th>streamingtv</th>\n",
       "      <th>streamingmovies</th>\n",
       "    </tr>\n",
       "  </thead>\n",
       "  <tbody>\n",
       "    <tr>\n",
       "      <th>0</th>\n",
       "      <td>7590-vhveg</td>\n",
       "      <td>female</td>\n",
       "      <td>0</td>\n",
       "      <td>yes</td>\n",
       "      <td>no</td>\n",
       "      <td>2020-01-01</td>\n",
       "      <td>no</td>\n",
       "      <td>month-to-month</td>\n",
       "      <td>yes</td>\n",
       "      <td>electronic check</td>\n",
       "      <td>29.85</td>\n",
       "      <td>29.85</td>\n",
       "      <td>NaN</td>\n",
       "      <td>dsl</td>\n",
       "      <td>no</td>\n",
       "      <td>yes</td>\n",
       "      <td>no</td>\n",
       "      <td>no</td>\n",
       "      <td>no</td>\n",
       "      <td>no</td>\n",
       "    </tr>\n",
       "    <tr>\n",
       "      <th>1</th>\n",
       "      <td>5575-gnvde</td>\n",
       "      <td>male</td>\n",
       "      <td>0</td>\n",
       "      <td>no</td>\n",
       "      <td>no</td>\n",
       "      <td>2017-04-01</td>\n",
       "      <td>no</td>\n",
       "      <td>one year</td>\n",
       "      <td>no</td>\n",
       "      <td>mailed check</td>\n",
       "      <td>56.95</td>\n",
       "      <td>1889.5</td>\n",
       "      <td>no</td>\n",
       "      <td>dsl</td>\n",
       "      <td>yes</td>\n",
       "      <td>no</td>\n",
       "      <td>yes</td>\n",
       "      <td>no</td>\n",
       "      <td>no</td>\n",
       "      <td>no</td>\n",
       "    </tr>\n",
       "    <tr>\n",
       "      <th>2</th>\n",
       "      <td>3668-qpybk</td>\n",
       "      <td>male</td>\n",
       "      <td>0</td>\n",
       "      <td>no</td>\n",
       "      <td>no</td>\n",
       "      <td>2019-10-01</td>\n",
       "      <td>2019-12-01 00:00:00</td>\n",
       "      <td>month-to-month</td>\n",
       "      <td>yes</td>\n",
       "      <td>mailed check</td>\n",
       "      <td>53.85</td>\n",
       "      <td>108.15</td>\n",
       "      <td>no</td>\n",
       "      <td>dsl</td>\n",
       "      <td>yes</td>\n",
       "      <td>yes</td>\n",
       "      <td>no</td>\n",
       "      <td>no</td>\n",
       "      <td>no</td>\n",
       "      <td>no</td>\n",
       "    </tr>\n",
       "    <tr>\n",
       "      <th>3</th>\n",
       "      <td>7795-cfocw</td>\n",
       "      <td>male</td>\n",
       "      <td>0</td>\n",
       "      <td>no</td>\n",
       "      <td>no</td>\n",
       "      <td>2016-05-01</td>\n",
       "      <td>no</td>\n",
       "      <td>one year</td>\n",
       "      <td>no</td>\n",
       "      <td>bank transfer (automatic)</td>\n",
       "      <td>42.30</td>\n",
       "      <td>1840.75</td>\n",
       "      <td>NaN</td>\n",
       "      <td>dsl</td>\n",
       "      <td>yes</td>\n",
       "      <td>no</td>\n",
       "      <td>yes</td>\n",
       "      <td>yes</td>\n",
       "      <td>no</td>\n",
       "      <td>no</td>\n",
       "    </tr>\n",
       "    <tr>\n",
       "      <th>4</th>\n",
       "      <td>9237-hqitu</td>\n",
       "      <td>female</td>\n",
       "      <td>0</td>\n",
       "      <td>no</td>\n",
       "      <td>no</td>\n",
       "      <td>2019-09-01</td>\n",
       "      <td>2019-11-01 00:00:00</td>\n",
       "      <td>month-to-month</td>\n",
       "      <td>yes</td>\n",
       "      <td>electronic check</td>\n",
       "      <td>70.70</td>\n",
       "      <td>151.65</td>\n",
       "      <td>no</td>\n",
       "      <td>fiber optic</td>\n",
       "      <td>no</td>\n",
       "      <td>no</td>\n",
       "      <td>no</td>\n",
       "      <td>no</td>\n",
       "      <td>no</td>\n",
       "      <td>no</td>\n",
       "    </tr>\n",
       "  </tbody>\n",
       "</table>\n",
       "</div>"
      ],
      "text/plain": [
       "   customerid  gender  seniorcitizen partner dependents   begindate  \\\n",
       "0  7590-vhveg  female              0     yes         no  2020-01-01   \n",
       "1  5575-gnvde    male              0      no         no  2017-04-01   \n",
       "2  3668-qpybk    male              0      no         no  2019-10-01   \n",
       "3  7795-cfocw    male              0      no         no  2016-05-01   \n",
       "4  9237-hqitu  female              0      no         no  2019-09-01   \n",
       "\n",
       "               enddate            type paperlessbilling  \\\n",
       "0                   no  month-to-month              yes   \n",
       "1                   no        one year               no   \n",
       "2  2019-12-01 00:00:00  month-to-month              yes   \n",
       "3                   no        one year               no   \n",
       "4  2019-11-01 00:00:00  month-to-month              yes   \n",
       "\n",
       "               paymentmethod  monthlycharges totalcharges multiplelines  \\\n",
       "0           electronic check           29.85        29.85           NaN   \n",
       "1               mailed check           56.95       1889.5            no   \n",
       "2               mailed check           53.85       108.15            no   \n",
       "3  bank transfer (automatic)           42.30      1840.75           NaN   \n",
       "4           electronic check           70.70       151.65            no   \n",
       "\n",
       "  internetservice onlinesecurity onlinebackup deviceprotection techsupport  \\\n",
       "0             dsl             no          yes               no          no   \n",
       "1             dsl            yes           no              yes          no   \n",
       "2             dsl            yes          yes               no          no   \n",
       "3             dsl            yes           no              yes         yes   \n",
       "4     fiber optic             no           no               no          no   \n",
       "\n",
       "  streamingtv streamingmovies  \n",
       "0          no              no  \n",
       "1          no              no  \n",
       "2          no              no  \n",
       "3          no              no  \n",
       "4          no              no  "
      ]
     },
     "execution_count": 14,
     "metadata": {},
     "output_type": "execute_result"
    }
   ],
   "source": [
    "#view how the data is veiwed\n",
    "df_all.head()"
   ]
  },
  {
   "cell_type": "code",
   "execution_count": 15,
   "metadata": {},
   "outputs": [
    {
     "data": {
      "text/plain": [
       "customerid             0\n",
       "gender                 0\n",
       "seniorcitizen          0\n",
       "partner                0\n",
       "dependents             0\n",
       "begindate              0\n",
       "enddate                0\n",
       "type                   0\n",
       "paperlessbilling       0\n",
       "paymentmethod          0\n",
       "monthlycharges         0\n",
       "totalcharges           0\n",
       "multiplelines        682\n",
       "internetservice     1526\n",
       "onlinesecurity      1526\n",
       "onlinebackup        1526\n",
       "deviceprotection    1526\n",
       "techsupport         1526\n",
       "streamingtv         1526\n",
       "streamingmovies     1526\n",
       "dtype: int64"
      ]
     },
     "execution_count": 15,
     "metadata": {},
     "output_type": "execute_result"
    }
   ],
   "source": [
    "#check the missing data, we will address in a few code blocks\n",
    "missing= df_all.isnull().sum()\n",
    "missing"
   ]
  },
  {
   "cell_type": "code",
   "execution_count": 16,
   "metadata": {},
   "outputs": [],
   "source": [
    "#adjust the begindate to datetime\n",
    "df_all['begindate']=pd.to_datetime(df_all['begindate'],format='%Y-%m-%d')"
   ]
  },
  {
   "cell_type": "code",
   "execution_count": 17,
   "metadata": {},
   "outputs": [
    {
     "data": {
      "text/plain": [
       "(0, 7043)"
      ]
     },
     "execution_count": 17,
     "metadata": {},
     "output_type": "execute_result"
    }
   ],
   "source": [
    "#process to change enddate and add churn column to the dataset\n",
    "df_all['enddate'].isnull().sum(), df_all['enddate'].notna().sum()"
   ]
  },
  {
   "cell_type": "code",
   "execution_count": 18,
   "metadata": {},
   "outputs": [],
   "source": [
    "df_all['enddate'] = df_all['enddate'].replace({'no': np.nan,'':np.nan})"
   ]
  },
  {
   "cell_type": "code",
   "execution_count": 19,
   "metadata": {},
   "outputs": [],
   "source": [
    "df_all['enddate']=pd.to_datetime(df_all['enddate'],format='%Y-%m-%d',errors='coerce')"
   ]
  },
  {
   "cell_type": "code",
   "execution_count": 20,
   "metadata": {},
   "outputs": [],
   "source": [
    "df_all['churn']=df_all['enddate'].notna().astype(int)"
   ]
  },
  {
   "cell_type": "code",
   "execution_count": 21,
   "metadata": {},
   "outputs": [
    {
     "data": {
      "text/plain": [
       "0    5174\n",
       "1    1869\n",
       "Name: churn, dtype: int64"
      ]
     },
     "execution_count": 21,
     "metadata": {},
     "output_type": "execute_result"
    }
   ],
   "source": [
    "df_all['churn'].value_counts()"
   ]
  },
  {
   "cell_type": "code",
   "execution_count": 22,
   "metadata": {},
   "outputs": [],
   "source": [
    "#change total charge column to numeric\n",
    "df_all['totalcharges']=pd.to_numeric(df_all['totalcharges'],errors='coerce')"
   ]
  },
  {
   "cell_type": "code",
   "execution_count": 23,
   "metadata": {},
   "outputs": [],
   "source": [
    "#adding tenure days column to dataset\n",
    "today= pd.Timestamp.today().normalize()\n",
    "df_all['tenure_days']=(today-df_all['begindate']).dt.days"
   ]
  },
  {
   "cell_type": "code",
   "execution_count": 24,
   "metadata": {},
   "outputs": [
    {
     "name": "stdout",
     "output_type": "stream",
     "text": [
      "<class 'pandas.core.frame.DataFrame'>\n",
      "Int64Index: 7043 entries, 0 to 7042\n",
      "Data columns (total 22 columns):\n",
      " #   Column            Non-Null Count  Dtype         \n",
      "---  ------            --------------  -----         \n",
      " 0   customerid        7043 non-null   object        \n",
      " 1   gender            7043 non-null   object        \n",
      " 2   seniorcitizen     7043 non-null   int64         \n",
      " 3   partner           7043 non-null   object        \n",
      " 4   dependents        7043 non-null   object        \n",
      " 5   begindate         7043 non-null   datetime64[ns]\n",
      " 6   enddate           1869 non-null   datetime64[ns]\n",
      " 7   type              7043 non-null   object        \n",
      " 8   paperlessbilling  7043 non-null   object        \n",
      " 9   paymentmethod     7043 non-null   object        \n",
      " 10  monthlycharges    7043 non-null   float64       \n",
      " 11  totalcharges      7032 non-null   float64       \n",
      " 12  multiplelines     6361 non-null   object        \n",
      " 13  internetservice   5517 non-null   object        \n",
      " 14  onlinesecurity    5517 non-null   object        \n",
      " 15  onlinebackup      5517 non-null   object        \n",
      " 16  deviceprotection  5517 non-null   object        \n",
      " 17  techsupport       5517 non-null   object        \n",
      " 18  streamingtv       5517 non-null   object        \n",
      " 19  streamingmovies   5517 non-null   object        \n",
      " 20  churn             7043 non-null   int64         \n",
      " 21  tenure_days       7043 non-null   int64         \n",
      "dtypes: datetime64[ns](2), float64(2), int64(3), object(15)\n",
      "memory usage: 1.2+ MB\n"
     ]
    }
   ],
   "source": [
    "#view to make sure all the changes above took place\n",
    "df_all.info()"
   ]
  },
  {
   "cell_type": "code",
   "execution_count": 25,
   "metadata": {},
   "outputs": [],
   "source": [
    "#take out all rows with nothing in begin date or total charges (not actual customers if these are empty and should not be in the dataset)\n",
    "df_all.dropna(subset=['begindate','totalcharges'], inplace=True)"
   ]
  },
  {
   "cell_type": "code",
   "execution_count": 26,
   "metadata": {},
   "outputs": [
    {
     "data": {
      "text/plain": [
       "0"
      ]
     },
     "execution_count": 26,
     "metadata": {},
     "output_type": "execute_result"
    }
   ],
   "source": [
    "#any duplicates?\n",
    "dup_counts= df_all.duplicated().sum()\n",
    "dup_counts"
   ]
  },
  {
   "cell_type": "code",
   "execution_count": 27,
   "metadata": {},
   "outputs": [
    {
     "name": "stdout",
     "output_type": "stream",
     "text": [
      "<class 'pandas.core.frame.DataFrame'>\n",
      "Int64Index: 7032 entries, 0 to 7042\n",
      "Data columns (total 22 columns):\n",
      " #   Column            Non-Null Count  Dtype         \n",
      "---  ------            --------------  -----         \n",
      " 0   customerid        7032 non-null   object        \n",
      " 1   gender            7032 non-null   object        \n",
      " 2   seniorcitizen     7032 non-null   int64         \n",
      " 3   partner           7032 non-null   object        \n",
      " 4   dependents        7032 non-null   object        \n",
      " 5   begindate         7032 non-null   datetime64[ns]\n",
      " 6   enddate           1869 non-null   datetime64[ns]\n",
      " 7   type              7032 non-null   object        \n",
      " 8   paperlessbilling  7032 non-null   object        \n",
      " 9   paymentmethod     7032 non-null   object        \n",
      " 10  monthlycharges    7032 non-null   float64       \n",
      " 11  totalcharges      7032 non-null   float64       \n",
      " 12  multiplelines     6352 non-null   object        \n",
      " 13  internetservice   5512 non-null   object        \n",
      " 14  onlinesecurity    5512 non-null   object        \n",
      " 15  onlinebackup      5512 non-null   object        \n",
      " 16  deviceprotection  5512 non-null   object        \n",
      " 17  techsupport       5512 non-null   object        \n",
      " 18  streamingtv       5512 non-null   object        \n",
      " 19  streamingmovies   5512 non-null   object        \n",
      " 20  churn             7032 non-null   int64         \n",
      " 21  tenure_days       7032 non-null   int64         \n",
      "dtypes: datetime64[ns](2), float64(2), int64(3), object(15)\n",
      "memory usage: 1.2+ MB\n"
     ]
    }
   ],
   "source": [
    "df_all.info()"
   ]
  },
  {
   "cell_type": "code",
   "execution_count": 28,
   "metadata": {},
   "outputs": [
    {
     "data": {
      "image/png": "[encoded data removed]",
      "text/plain": [
       "<Figure size 640x480 with 1 Axes>"
      ]
     },
     "metadata": {},
     "output_type": "display_data"
    },
    {
     "data": {
      "text/plain": [
       "0    73.42\n",
       "1    26.58\n",
       "Name: churn, dtype: float64"
      ]
     },
     "execution_count": 28,
     "metadata": {},
     "output_type": "execute_result"
    }
   ],
   "source": [
    "#lets view our churn data\n",
    "sns.countplot(data=df_all, x='churn')\n",
    "plt.title('Churn Distribution')\n",
    "plt.xlabel('Churn (0=active, 1=Churned)')\n",
    "plt.ylabel('Count')\n",
    "plt.show()\n",
    "\n",
    "df_all['churn'].value_counts(normalize=True).mul(100).round(2)"
   ]
  },
  {
   "cell_type": "code",
   "execution_count": 29,
   "metadata": {},
   "outputs": [
    {
     "data": {
      "image/png": "[encoded data removed]",
      "text/plain": [
       "<Figure size 1200x600 with 3 Axes>"
      ]
     },
     "metadata": {},
     "output_type": "display_data"
    }
   ],
   "source": [
    "#view numerical features in the set\n",
    "num_cols= ['monthlycharges','totalcharges','tenure_days']\n",
    "df_all[num_cols].describe().T\n",
    "\n",
    "df_all[num_cols].hist(bins=30, figsize=(12,6), layout=(1,3))\n",
    "plt.tight_layout()\n",
    "plt.show()"
   ]
  },
  {
   "cell_type": "markdown",
   "metadata": {},
   "source": [
    "The numeric features show clear patterns. Monthly charges have two main groups, low and high,\n",
    "likely based on service levels. Total charges are mostly low, with a few long-term users spending more. Tenure shows that many customers leave early, while others stay for years. These trends suggest that price and time with the company could help predict churn."
   ]
  },
  {
   "cell_type": "markdown",
   "metadata": {},
   "source": [
    "## Pre-Model Prep"
   ]
  },
  {
   "cell_type": "code",
   "execution_count": 30,
   "metadata": {},
   "outputs": [
    {
     "data": {
      "text/plain": [
       "customerid             0\n",
       "gender                 0\n",
       "seniorcitizen          0\n",
       "partner                0\n",
       "dependents             0\n",
       "begindate              0\n",
       "enddate             5163\n",
       "type                   0\n",
       "paperlessbilling       0\n",
       "paymentmethod          0\n",
       "monthlycharges         0\n",
       "totalcharges           0\n",
       "multiplelines        680\n",
       "internetservice     1520\n",
       "onlinesecurity      1520\n",
       "onlinebackup        1520\n",
       "deviceprotection    1520\n",
       "techsupport         1520\n",
       "streamingtv         1520\n",
       "streamingmovies     1520\n",
       "churn                  0\n",
       "tenure_days            0\n",
       "dtype: int64"
      ]
     },
     "execution_count": 30,
     "metadata": {},
     "output_type": "execute_result"
    }
   ],
   "source": [
    "#check missing data\n",
    "df_all.isnull().sum()"
   ]
  },
  {
   "cell_type": "code",
   "execution_count": 31,
   "metadata": {},
   "outputs": [],
   "source": [
    "#filling rows with no instead of missing (these missings are likely due to the customers opting for other plans phone instead of internet, etc.)\n",
    "service_cols = ['internetservice', 'onlinesecurity', 'onlinebackup', 'deviceprotection', 'techsupport', 'streamingtv', 'streamingmovies']\n",
    "df_all[service_cols] = df_all[service_cols].fillna('no')"
   ]
  },
  {
   "cell_type": "code",
   "execution_count": 32,
   "metadata": {},
   "outputs": [],
   "source": [
    "df_all['multiplelines'] = df_all['multiplelines'].fillna('no')"
   ]
  },
  {
   "cell_type": "code",
   "execution_count": 33,
   "metadata": {},
   "outputs": [
    {
     "data": {
      "text/plain": [
       "customerid             0\n",
       "gender                 0\n",
       "seniorcitizen          0\n",
       "partner                0\n",
       "dependents             0\n",
       "begindate              0\n",
       "enddate             5163\n",
       "type                   0\n",
       "paperlessbilling       0\n",
       "paymentmethod          0\n",
       "monthlycharges         0\n",
       "totalcharges           0\n",
       "multiplelines          0\n",
       "internetservice        0\n",
       "onlinesecurity         0\n",
       "onlinebackup           0\n",
       "deviceprotection       0\n",
       "techsupport            0\n",
       "streamingtv            0\n",
       "streamingmovies        0\n",
       "churn                  0\n",
       "tenure_days            0\n",
       "dtype: int64"
      ]
     },
     "execution_count": 33,
     "metadata": {},
     "output_type": "execute_result"
    }
   ],
   "source": [
    "#re-checking missing values after filling\n",
    "df_all.isnull().sum()"
   ]
  },
  {
   "cell_type": "code",
   "execution_count": 34,
   "metadata": {},
   "outputs": [
    {
     "data": {
      "text/html": [
       "<div>\n",
       "<style scoped>\n",
       "    .dataframe tbody tr th:only-of-type {\n",
       "        vertical-align: middle;\n",
       "    }\n",
       "\n",
       "    .dataframe tbody tr th {\n",
       "        vertical-align: top;\n",
       "    }\n",
       "\n",
       "    .dataframe thead th {\n",
       "        text-align: right;\n",
       "    }\n",
       "</style>\n",
       "<table border=\"1\" class=\"dataframe\">\n",
       "  <thead>\n",
       "    <tr style=\"text-align: right;\">\n",
       "      <th></th>\n",
       "      <th>monthlycharges</th>\n",
       "      <th>totalcharges</th>\n",
       "      <th>tenure_days</th>\n",
       "    </tr>\n",
       "  </thead>\n",
       "  <tbody>\n",
       "    <tr>\n",
       "      <th>count</th>\n",
       "      <td>7032.00</td>\n",
       "      <td>7032.00</td>\n",
       "      <td>7032.00</td>\n",
       "    </tr>\n",
       "    <tr>\n",
       "      <th>mean</th>\n",
       "      <td>0.00</td>\n",
       "      <td>-0.00</td>\n",
       "      <td>0.00</td>\n",
       "    </tr>\n",
       "    <tr>\n",
       "      <th>std</th>\n",
       "      <td>1.00</td>\n",
       "      <td>1.00</td>\n",
       "      <td>1.00</td>\n",
       "    </tr>\n",
       "    <tr>\n",
       "      <th>min</th>\n",
       "      <td>-1.55</td>\n",
       "      <td>-1.00</td>\n",
       "      <td>-1.33</td>\n",
       "    </tr>\n",
       "    <tr>\n",
       "      <th>25%</th>\n",
       "      <td>-0.97</td>\n",
       "      <td>-0.83</td>\n",
       "      <td>-0.95</td>\n",
       "    </tr>\n",
       "    <tr>\n",
       "      <th>50%</th>\n",
       "      <td>0.18</td>\n",
       "      <td>-0.39</td>\n",
       "      <td>-0.17</td>\n",
       "    </tr>\n",
       "    <tr>\n",
       "      <th>75%</th>\n",
       "      <td>0.83</td>\n",
       "      <td>0.67</td>\n",
       "      <td>0.95</td>\n",
       "    </tr>\n",
       "    <tr>\n",
       "      <th>max</th>\n",
       "      <td>1.79</td>\n",
       "      <td>2.82</td>\n",
       "      <td>1.77</td>\n",
       "    </tr>\n",
       "  </tbody>\n",
       "</table>\n",
       "</div>"
      ],
      "text/plain": [
       "       monthlycharges  totalcharges  tenure_days\n",
       "count         7032.00       7032.00      7032.00\n",
       "mean             0.00         -0.00         0.00\n",
       "std              1.00          1.00         1.00\n",
       "min             -1.55         -1.00        -1.33\n",
       "25%             -0.97         -0.83        -0.95\n",
       "50%              0.18         -0.39        -0.17\n",
       "75%              0.83          0.67         0.95\n",
       "max              1.79          2.82         1.77"
      ]
     },
     "execution_count": 34,
     "metadata": {},
     "output_type": "execute_result"
    }
   ],
   "source": [
    "#scale data\n",
    "num_cols = ['monthlycharges', 'totalcharges', 'tenure_days']\n",
    "\n",
    "scaler = StandardScaler()\n",
    "\n",
    "df_all[num_cols]= scaler.fit_transform(df_all[num_cols])\n",
    "\n",
    "df_all[num_cols].describe().round(2)"
   ]
  },
  {
   "cell_type": "code",
   "execution_count": 35,
   "metadata": {},
   "outputs": [
    {
     "data": {
      "text/html": [
       "<div>\n",
       "<style scoped>\n",
       "    .dataframe tbody tr th:only-of-type {\n",
       "        vertical-align: middle;\n",
       "    }\n",
       "\n",
       "    .dataframe tbody tr th {\n",
       "        vertical-align: top;\n",
       "    }\n",
       "\n",
       "    .dataframe thead th {\n",
       "        text-align: right;\n",
       "    }\n",
       "</style>\n",
       "<table border=\"1\" class=\"dataframe\">\n",
       "  <thead>\n",
       "    <tr style=\"text-align: right;\">\n",
       "      <th></th>\n",
       "      <th>type_one year</th>\n",
       "      <th>type_two year</th>\n",
       "    </tr>\n",
       "  </thead>\n",
       "  <tbody>\n",
       "    <tr>\n",
       "      <th>0</th>\n",
       "      <td>0</td>\n",
       "      <td>0</td>\n",
       "    </tr>\n",
       "  </tbody>\n",
       "</table>\n",
       "</div>"
      ],
      "text/plain": [
       "   type_one year  type_two year\n",
       "0              0              0"
      ]
     },
     "execution_count": 35,
     "metadata": {},
     "output_type": "execute_result"
    }
   ],
   "source": [
    "#one-hot encode\n",
    "cat_cols = ['type','paymentmethod', 'internetservice']\n",
    "\n",
    "df_all = pd.get_dummies(df_all, columns= cat_cols, drop_first= True)\n",
    " \n",
    "df_all.filter(like='type_').head(1)"
   ]
  },
  {
   "cell_type": "markdown",
   "metadata": {},
   "source": [
    "## Feature Engineering"
   ]
  },
  {
   "cell_type": "code",
   "execution_count": 36,
   "metadata": {},
   "outputs": [
    {
     "data": {
      "text/plain": [
       "0    1\n",
       "1    2\n",
       "2    2\n",
       "3    3\n",
       "4    0\n",
       "Name: num_services, dtype: int64"
      ]
     },
     "execution_count": 36,
     "metadata": {},
     "output_type": "execute_result"
    }
   ],
   "source": [
    "#remove non booleen from service_cols and then run counts on subscribed services (doing it this way for a permanent change to the column from this block forward instead of using .remove())\n",
    "service_cols = ['onlinesecurity', 'onlinebackup', 'deviceprotection', 'techsupport', 'streamingtv', 'streamingmovies']\n",
    "\n",
    "df_all[service_cols] = df_all[service_cols].replace({'yes':1, 'no': 0})\n",
    "\n",
    "df_all['num_services']=df_all[service_cols].sum(axis=1)\n",
    "\n",
    "df_all['num_services'].head(5)"
   ]
  },
  {
   "cell_type": "code",
   "execution_count": 37,
   "metadata": {},
   "outputs": [],
   "source": [
    "#binary flag for paperless billing, gender, partner, dependants\n",
    "binary_cols = ['gender', 'partner', 'dependents', 'paperlessbilling', 'multiplelines']\n",
    "df_all[binary_cols] = df_all[binary_cols].replace({'yes': 1, 'no': 0, 'female': 0, 'male': 1})"
   ]
  },
  {
   "cell_type": "markdown",
   "metadata": {},
   "source": [
    "## Model Development"
   ]
  },
  {
   "cell_type": "code",
   "execution_count": 38,
   "metadata": {},
   "outputs": [
    {
     "name": "stdout",
     "output_type": "stream",
     "text": [
      "Churn distribution:\n",
      "Train: 0.266\n",
      "Validation: 0.265\n",
      "Test: 0.265\n"
     ]
    }
   ],
   "source": [
    "#features and target\n",
    "X= df_all.drop(columns=['enddate','begindate','customerid','churn'])\n",
    "y=df_all['churn']\n",
    "\n",
    "#split test set\n",
    "X_temp, X_test, y_temp, y_test = train_test_split(\n",
    "    X,y,\n",
    "    test_size=0.15,\n",
    "    stratify=y,\n",
    "    random_state=42\n",
    ")\n",
    "\n",
    "#split remaining to train and validation sets(15% of remaining[0.15/0.85=0.1764705882])\n",
    "X_train,X_val, y_train, y_val= train_test_split(\n",
    "    X_temp, y_temp,\n",
    "    test_size=0.1765,\n",
    "    stratify=y_temp,\n",
    "    random_state=42\n",
    ")\n",
    "\n",
    "#check distribution through\n",
    "print(\"Churn distribution:\")\n",
    "print(\"Train:\", y_train.mean().round(3))\n",
    "print(\"Validation:\", y_val.mean().round(3))\n",
    "print(\"Test:\", y_test.mean().round(3))"
   ]
  },
  {
   "cell_type": "code",
   "execution_count": 39,
   "metadata": {},
   "outputs": [
    {
     "name": "stdout",
     "output_type": "stream",
     "text": [
      "Validation AUC-ROC:  0.829\n"
     ]
    }
   ],
   "source": [
    "#baseline model using Logistic Regression\n",
    "baseline_model= LogisticRegression(random_state=42, max_iter=1000)\n",
    "\n",
    "baseline_model.fit(X_train, y_train)\n",
    "\n",
    "y_val_proba = baseline_model.predict_proba(X_val)[:,1]\n",
    "\n",
    "#AUC-ROC\n",
    "val_auc= roc_auc_score(y_val, y_val_proba)\n",
    "print(f\"Validation AUC-ROC: {val_auc: .3f}\")"
   ]
  },
  {
   "cell_type": "code",
   "execution_count": 40,
   "metadata": {},
   "outputs": [
    {
     "name": "stdout",
     "output_type": "stream",
     "text": [
      "Validation AUC-ROC (LightGBM): 0.919\n"
     ]
    }
   ],
   "source": [
    "#lightGBM\n",
    "lgb_model= lgb.LGBMClassifier(random_state=42)\n",
    "\n",
    "lgb_model.fit(X_train, y_train)\n",
    "\n",
    "y_val_proba = lgb_model.predict_proba(X_val)[:,1]\n",
    "\n",
    "val_auc_lgb= roc_auc_score(y_val, y_val_proba)\n",
    "print(f\"Validation AUC-ROC (LightGBM): {val_auc_lgb:.3f}\")"
   ]
  },
  {
   "cell_type": "code",
   "execution_count": 41,
   "metadata": {},
   "outputs": [
    {
     "name": "stdout",
     "output_type": "stream",
     "text": [
      "Fitting 3 folds for each of 30 candidates, totalling 90 fits\n"
     ]
    }
   ],
   "source": [
    "#optional tuning\n",
    "param_dist = {\n",
    "    'num_leaves': randint(20,100),\n",
    "    'max_depth': randint(3,15),\n",
    "    'learning_rate': uniform(0.01,0.2),\n",
    "    'n_estimators': randint(100,500),\n",
    "    'min_child_samples': randint(10,50),\n",
    "    'subsample': uniform(0.6, 0.4),\n",
    "    'colsample_bytree': uniform(0.6,0.4)\n",
    "}\n",
    "\n",
    "lgb_clf = lgb.LGBMClassifier(random_state=42)\n",
    "\n",
    "random_search  = RandomizedSearchCV(\n",
    "    estimator=lgb_clf,\n",
    "    param_distributions=param_dist,\n",
    "    n_iter=30,\n",
    "    scoring='roc_auc',\n",
    "    cv=3,\n",
    "    verbose=1,\n",
    "    random_state=42,\n",
    "    n_jobs=-1\n",
    ")\n",
    "\n",
    "random_search.fit(X_train, y_train)\n",
    "\n",
    "best_model= random_search.best_estimator_"
   ]
  },
  {
   "cell_type": "code",
   "execution_count": 42,
   "metadata": {},
   "outputs": [
    {
     "name": "stdout",
     "output_type": "stream",
     "text": [
      "Validation AUC-ROC (Tuned):  0.919\n"
     ]
    }
   ],
   "source": [
    "val_auc= roc_auc_score(y_val, y_val_proba)\n",
    "print(f\"Validation AUC-ROC (Tuned): {val_auc: .3f}\")"
   ]
  },
  {
   "cell_type": "code",
   "execution_count": 43,
   "metadata": {},
   "outputs": [
    {
     "name": "stdout",
     "output_type": "stream",
     "text": [
      "Test AUC-ROC (Tuned LightGBM):  0.931\n"
     ]
    }
   ],
   "source": [
    "#test set\n",
    "y_test_proba= best_model.predict_proba(X_test)[:,1]\n",
    "\n",
    "#Test set AUC-ROC\n",
    "test_auc= roc_auc_score(y_test, y_test_proba)\n",
    "print(f\"Test AUC-ROC (Tuned LightGBM): {test_auc: .3f}\")"
   ]
  },
  {
   "cell_type": "code",
   "execution_count": 50,
   "metadata": {},
   "outputs": [
    {
     "data": {
      "image/png": "[encoded data removed]",
      "text/plain": [
       "<Figure size 800x600 with 1 Axes>"
      ]
     },
     "metadata": {},
     "output_type": "display_data"
    }
   ],
   "source": [
    "fpr,tpr, thresholds= roc_curve(y_test, y_test_proba)\n",
    "roc_auc= auc(fpr,tpr)\n",
    "\n",
    "plt.figure(figsize=(8,6))\n",
    "plt.plot(fpr,tpr, color='blue', lw=2, label=f\"AUC = {roc_auc:.3f}\")\n",
    "plt.plot([0,1],[0,1], color='gray', lw=1, linestyle='--')\n",
    "plt.xlabel('False Positive Rate')\n",
    "plt.ylabel('True Positive Rate')\n",
    "plt.title('ROC Curve- Test Set')\n",
    "plt.legend(loc='lower right')\n",
    "plt.grid(True)\n",
    "plt.tight_layout()\n",
    "plt.show()"
   ]
  },
  {
   "cell_type": "markdown",
   "metadata": {},
   "source": [
    "## Model Analysis/ Evaluation"
   ]
  },
  {
   "cell_type": "markdown",
   "metadata": {},
   "source": [
    "The final model is a tuned LightGBM classifier, chosen for its strong performance in predicting customer churn. It achieved a test AUC-ROC of 0.931, exceeding the project goal of 0.88. The model was trained on a clean, well-prepared dataset, and hyperparameters were optimized using randomized search. Its high accuracy and consistent results across validation and test sets make it a reliable tool for identifying high-risk customers."
   ]
  },
  {
   "cell_type": "markdown",
   "metadata": {},
   "source": [
    "## Conclusion"
   ]
  },
  {
   "cell_type": "markdown",
   "metadata": {},
   "source": [
    "This project successfully developed a churn prediction model using customer data from a telecom provider. After preparing and analyzing the data, a tuned LightGBM classifier was trained and selected as the final model. It achieved a test AUC-ROC of 0.931, exceeding the project’s performance goal. The results show that customer tenure, contract type, and service usage are strong indicators of churn risk. The final model is well-suited to support proactive retention efforts in a real-world setting."
   ]
  },
  {
   "cell_type": "markdown",
   "metadata": {},
   "source": [
    "## Report"
   ]
  },
  {
   "cell_type": "markdown",
   "metadata": {},
   "source": [
    "This project built a churn-prediction model for a telecom provider. I merged the four source tables, cleaned missing values, and removed duplicates. After an initial EDA, I engineered key features such as tenure_days, service counts, and binary flags for contract and billing types. All planned steps were completed; I skipped only extra visualizations that didn’t add new insight.\n",
    "\n",
    "The main challenges were data leakage and text-based binary fields. At first, tenure_days used enddate, which revealed churn. I fixed this by basing tenure solely on begindate and today’s date. I also converted 'yes'/'no' and 'male'/'female' to numeric flags and filled service-related nulls with “no,” since they indicated non-subscription.\n",
    "\n",
    "Clean data and solid features made the difference. A baseline logistic regression set the bar, but a tuned LightGBM model performed best. After randomized hyperparameter search, the final model reached an AUC-ROC of 0.931 on the test set, beating the 0.88 target and showing strong generalization. This model can now flag high-risk customers for proactive retention efforts."
   ]
  }
 ],
 "metadata": {
  "kernelspec": {
   "display_name": "Python 3 (ipykernel)",
   "language": "python",
   "name": "python3"
  },
  "language_info": {
   "codemirror_mode": {
    "name": "ipython",
    "version": 3
   },
   "file_extension": ".py",
   "mimetype": "text/x-python",
   "name": "python",
   "nbconvert_exporter": "python",
   "pygments_lexer": "ipython3",
   "version": "3.9.22"
  }
 },
 "nbformat": 4,
 "nbformat_minor": 4
}
